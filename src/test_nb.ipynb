{
 "cells": [
  {
   "cell_type": "code",
   "execution_count": 59,
   "metadata": {},
   "outputs": [
    {
     "name": "stdout",
     "output_type": "stream",
     "text": [
      "The autoreload extension is already loaded. To reload it, use:\n",
      "  %reload_ext autoreload\n"
     ]
    }
   ],
   "source": [
    "import pandas as pd\n",
    "import numpy as np\n",
    "from datetime import datetime, timedelta\n",
    "import matplotlib.pyplot as plt\n",
    "from tqdm import tqdm\n",
    "from merge_bond_treasury_redcode import *\n",
    "import ctypes\n",
    "from scipy.interpolate import CubicSpline\n",
    "from merge_cds_bond import *\n",
    "\n",
    "%load_ext autoreload\n",
    "%autoreload 2\n"
   ]
  },
  {
   "cell_type": "code",
   "execution_count": 2,
   "metadata": {},
   "outputs": [],
   "source": [
    "path1 = \"../_data/issue_data.parquet\"\n",
    "path2 = \"../_data/monthly_ts_data.parquet\"\n",
    "\n",
    "wrds_path = \"../../FS-project-files/wrds_bond.parquet\"\n",
    "red_code_path = \"../../FS-project-files/RED_and_ISIN_mapping.parquet\"\n",
    "cds_path = \"../../FS-project-files/cds_final.pkl\"\n",
    "fin_path = \"../../FS-project-files/merged_bond_treas_red.pkl\"\n",
    "\n",
    "issue_df = pd.read_parquet(path1)\n",
    "treas_df = pd.read_parquet(path2)\n",
    "bond_df = pd.read_parquet(wrds_path)\n",
    "red_df = pd.read_parquet(red_code_path)\n",
    "\n",
    "fin_df = pd.read_pickle(fin_path)\n",
    "cds_df = pd.read_pickle(cds_path)"
   ]
  },
  {
   "cell_type": "code",
   "execution_count": 60,
   "metadata": {},
   "outputs": [
    {
     "name": "stderr",
     "output_type": "stream",
     "text": [
      "c:\\Users\\xuv14\\Winter 2025 FINM\\Full Stack\\full_stack_project\\src\\merge_cds_bond.py:138: FutureWarning: DataFrame.applymap has been deprecated. Use DataFrame.map instead.\n",
      "  par_df = par_df.applymap(safe_convert)\n"
     ]
    }
   ],
   "source": [
    "df10 = merge_cds_into_bonds(fin_df, cds_df)"
   ]
  },
  {
   "cell_type": "code",
   "execution_count": 61,
   "metadata": {},
   "outputs": [
    {
     "data": {
      "text/html": [
       "<div>\n",
       "<style scoped>\n",
       "    .dataframe tbody tr th:only-of-type {\n",
       "        vertical-align: middle;\n",
       "    }\n",
       "\n",
       "    .dataframe tbody tr th {\n",
       "        vertical-align: top;\n",
       "    }\n",
       "\n",
       "    .dataframe thead th {\n",
       "        text-align: right;\n",
       "    }\n",
       "</style>\n",
       "<table border=\"1\" class=\"dataframe\">\n",
       "  <thead>\n",
       "    <tr style=\"text-align: right;\">\n",
       "      <th></th>\n",
       "      <th>cusip</th>\n",
       "      <th>date</th>\n",
       "      <th>maturity</th>\n",
       "      <th>yield</th>\n",
       "      <th>rating</th>\n",
       "      <th>treas_yld</th>\n",
       "      <th>par_spread</th>\n",
       "      <th>t_spread</th>\n",
       "      <th>price_eom</th>\n",
       "      <th>amount_outstanding</th>\n",
       "    </tr>\n",
       "  </thead>\n",
       "  <tbody>\n",
       "    <tr>\n",
       "      <th>0</th>\n",
       "      <td>001957AM1</td>\n",
       "      <td>2002-07-31</td>\n",
       "      <td>2004-04-01</td>\n",
       "      <td>0.085600</td>\n",
       "      <td>1</td>\n",
       "      <td>0.020340</td>\n",
       "      <td>0.069154</td>\n",
       "      <td>0.014847</td>\n",
       "      <td>97.213129</td>\n",
       "      <td>400000.0</td>\n",
       "    </tr>\n",
       "    <tr>\n",
       "      <th>4</th>\n",
       "      <td>001957AM1</td>\n",
       "      <td>2002-09-30</td>\n",
       "      <td>2004-04-01</td>\n",
       "      <td>0.066960</td>\n",
       "      <td>1</td>\n",
       "      <td>0.015797</td>\n",
       "      <td>0.046843</td>\n",
       "      <td>0.007308</td>\n",
       "      <td>100.066504</td>\n",
       "      <td>400000.0</td>\n",
       "    </tr>\n",
       "    <tr>\n",
       "      <th>6</th>\n",
       "      <td>001957AM1</td>\n",
       "      <td>2002-10-31</td>\n",
       "      <td>2004-04-01</td>\n",
       "      <td>0.066670</td>\n",
       "      <td>0</td>\n",
       "      <td>0.014777</td>\n",
       "      <td>0.039719</td>\n",
       "      <td>0.007682</td>\n",
       "      <td>100.112053</td>\n",
       "      <td>400000.0</td>\n",
       "    </tr>\n",
       "    <tr>\n",
       "      <th>10</th>\n",
       "      <td>001957AM1</td>\n",
       "      <td>2002-12-31</td>\n",
       "      <td>2004-04-01</td>\n",
       "      <td>0.036044</td>\n",
       "      <td>0</td>\n",
       "      <td>0.012791</td>\n",
       "      <td>0.022669</td>\n",
       "      <td>0.010935</td>\n",
       "      <td>103.810897</td>\n",
       "      <td>123856.0</td>\n",
       "    </tr>\n",
       "    <tr>\n",
       "      <th>12</th>\n",
       "      <td>001957AM1</td>\n",
       "      <td>2003-01-31</td>\n",
       "      <td>2004-04-01</td>\n",
       "      <td>0.036545</td>\n",
       "      <td>0</td>\n",
       "      <td>0.013383</td>\n",
       "      <td>0.024194</td>\n",
       "      <td>0.010090</td>\n",
       "      <td>103.500000</td>\n",
       "      <td>123856.0</td>\n",
       "    </tr>\n",
       "    <tr>\n",
       "      <th>...</th>\n",
       "      <td>...</td>\n",
       "      <td>...</td>\n",
       "      <td>...</td>\n",
       "      <td>...</td>\n",
       "      <td>...</td>\n",
       "      <td>...</td>\n",
       "      <td>...</td>\n",
       "      <td>...</td>\n",
       "      <td>...</td>\n",
       "      <td>...</td>\n",
       "    </tr>\n",
       "    <tr>\n",
       "      <th>557259</th>\n",
       "      <td>110122DZ8</td>\n",
       "      <td>2023-11-30</td>\n",
       "      <td>2033-11-15</td>\n",
       "      <td>0.052103</td>\n",
       "      <td>0</td>\n",
       "      <td>0.043705</td>\n",
       "      <td>0.006427</td>\n",
       "      <td>0.001606</td>\n",
       "      <td>105.310818</td>\n",
       "      <td>1000000.0</td>\n",
       "    </tr>\n",
       "    <tr>\n",
       "      <th>557264</th>\n",
       "      <td>133131BA9</td>\n",
       "      <td>2023-11-30</td>\n",
       "      <td>2026-11-03</td>\n",
       "      <td>0.052437</td>\n",
       "      <td>0</td>\n",
       "      <td>0.044739</td>\n",
       "      <td>0.000829</td>\n",
       "      <td>0.000603</td>\n",
       "      <td>101.627580</td>\n",
       "      <td>500000.0</td>\n",
       "    </tr>\n",
       "    <tr>\n",
       "      <th>557269</th>\n",
       "      <td>63743HFK3</td>\n",
       "      <td>2023-11-30</td>\n",
       "      <td>2026-11-13</td>\n",
       "      <td>0.050558</td>\n",
       "      <td>0</td>\n",
       "      <td>0.044795</td>\n",
       "      <td>0.001156</td>\n",
       "      <td>0.002571</td>\n",
       "      <td>101.479897</td>\n",
       "      <td>400000.0</td>\n",
       "    </tr>\n",
       "    <tr>\n",
       "      <th>557307</th>\n",
       "      <td>883203CD1</td>\n",
       "      <td>2023-11-30</td>\n",
       "      <td>2033-11-15</td>\n",
       "      <td>0.056958</td>\n",
       "      <td>0</td>\n",
       "      <td>0.043705</td>\n",
       "      <td>0.017182</td>\n",
       "      <td>0.001592</td>\n",
       "      <td>103.045046</td>\n",
       "      <td>350000.0</td>\n",
       "    </tr>\n",
       "    <tr>\n",
       "      <th>557322</th>\n",
       "      <td>02665WEV9</td>\n",
       "      <td>2023-11-30</td>\n",
       "      <td>2028-11-15</td>\n",
       "      <td>0.050826</td>\n",
       "      <td>0</td>\n",
       "      <td>0.043683</td>\n",
       "      <td>0.005358</td>\n",
       "      <td>0.001199</td>\n",
       "      <td>102.464070</td>\n",
       "      <td>800000.0</td>\n",
       "    </tr>\n",
       "  </tbody>\n",
       "</table>\n",
       "<p>243459 rows × 10 columns</p>\n",
       "</div>"
      ],
      "text/plain": [
       "            cusip       date   maturity     yield  rating  treas_yld  \\\n",
       "0       001957AM1 2002-07-31 2004-04-01  0.085600       1   0.020340   \n",
       "4       001957AM1 2002-09-30 2004-04-01  0.066960       1   0.015797   \n",
       "6       001957AM1 2002-10-31 2004-04-01  0.066670       0   0.014777   \n",
       "10      001957AM1 2002-12-31 2004-04-01  0.036044       0   0.012791   \n",
       "12      001957AM1 2003-01-31 2004-04-01  0.036545       0   0.013383   \n",
       "...           ...        ...        ...       ...     ...        ...   \n",
       "557259  110122DZ8 2023-11-30 2033-11-15  0.052103       0   0.043705   \n",
       "557264  133131BA9 2023-11-30 2026-11-03  0.052437       0   0.044739   \n",
       "557269  63743HFK3 2023-11-30 2026-11-13  0.050558       0   0.044795   \n",
       "557307  883203CD1 2023-11-30 2033-11-15  0.056958       0   0.043705   \n",
       "557322  02665WEV9 2023-11-30 2028-11-15  0.050826       0   0.043683   \n",
       "\n",
       "        par_spread  t_spread   price_eom  amount_outstanding  \n",
       "0         0.069154  0.014847   97.213129            400000.0  \n",
       "4         0.046843  0.007308  100.066504            400000.0  \n",
       "6         0.039719  0.007682  100.112053            400000.0  \n",
       "10        0.022669  0.010935  103.810897            123856.0  \n",
       "12        0.024194  0.010090  103.500000            123856.0  \n",
       "...            ...       ...         ...                 ...  \n",
       "557259    0.006427  0.001606  105.310818           1000000.0  \n",
       "557264    0.000829  0.000603  101.627580            500000.0  \n",
       "557269    0.001156  0.002571  101.479897            400000.0  \n",
       "557307    0.017182  0.001592  103.045046            350000.0  \n",
       "557322    0.005358  0.001199  102.464070            800000.0  \n",
       "\n",
       "[243459 rows x 10 columns]"
      ]
     },
     "execution_count": 61,
     "metadata": {},
     "output_type": "execute_result"
    }
   ],
   "source": [
    "df10"
   ]
  },
  {
   "cell_type": "code",
   "execution_count": 3,
   "metadata": {},
   "outputs": [
    {
     "data": {
      "text/html": [
       "<div>\n",
       "<style scoped>\n",
       "    .dataframe tbody tr th:only-of-type {\n",
       "        vertical-align: middle;\n",
       "    }\n",
       "\n",
       "    .dataframe tbody tr th {\n",
       "        vertical-align: top;\n",
       "    }\n",
       "\n",
       "    .dataframe thead th {\n",
       "        text-align: right;\n",
       "    }\n",
       "</style>\n",
       "<table border=\"1\" class=\"dataframe\">\n",
       "  <thead>\n",
       "    <tr style=\"text-align: right;\">\n",
       "      <th></th>\n",
       "      <th>date</th>\n",
       "      <th>ticker</th>\n",
       "      <th>redcode</th>\n",
       "      <th>parspread</th>\n",
       "      <th>tenor</th>\n",
       "      <th>tier</th>\n",
       "      <th>country</th>\n",
       "      <th>year</th>\n",
       "    </tr>\n",
       "  </thead>\n",
       "  <tbody>\n",
       "    <tr>\n",
       "      <th>0</th>\n",
       "      <td>2002-01-01</td>\n",
       "      <td>T</td>\n",
       "      <td>001AEC</td>\n",
       "      <td>0.017589</td>\n",
       "      <td>10Y</td>\n",
       "      <td>SNRFOR</td>\n",
       "      <td>United States</td>\n",
       "      <td>2002</td>\n",
       "    </tr>\n",
       "    <tr>\n",
       "      <th>1</th>\n",
       "      <td>2002-01-01</td>\n",
       "      <td>T</td>\n",
       "      <td>001AEC</td>\n",
       "      <td>0.016295</td>\n",
       "      <td>10Y</td>\n",
       "      <td>SNRFOR</td>\n",
       "      <td>United States</td>\n",
       "      <td>2002</td>\n",
       "    </tr>\n",
       "    <tr>\n",
       "      <th>2</th>\n",
       "      <td>2002-01-01</td>\n",
       "      <td>T</td>\n",
       "      <td>001AEC</td>\n",
       "      <td>0.015566</td>\n",
       "      <td>10Y</td>\n",
       "      <td>SNRFOR</td>\n",
       "      <td>United States</td>\n",
       "      <td>2002</td>\n",
       "    </tr>\n",
       "    <tr>\n",
       "      <th>3</th>\n",
       "      <td>2002-01-01</td>\n",
       "      <td>T</td>\n",
       "      <td>001AEC</td>\n",
       "      <td>0.013413</td>\n",
       "      <td>1Y</td>\n",
       "      <td>SNRFOR</td>\n",
       "      <td>United States</td>\n",
       "      <td>2002</td>\n",
       "    </tr>\n",
       "    <tr>\n",
       "      <th>4</th>\n",
       "      <td>2002-01-01</td>\n",
       "      <td>T</td>\n",
       "      <td>001AEC</td>\n",
       "      <td>0.012417</td>\n",
       "      <td>1Y</td>\n",
       "      <td>SNRFOR</td>\n",
       "      <td>United States</td>\n",
       "      <td>2002</td>\n",
       "    </tr>\n",
       "  </tbody>\n",
       "</table>\n",
       "</div>"
      ],
      "text/plain": [
       "        date ticker redcode  parspread tenor    tier        country  year\n",
       "0 2002-01-01      T  001AEC   0.017589   10Y  SNRFOR  United States  2002\n",
       "1 2002-01-01      T  001AEC   0.016295   10Y  SNRFOR  United States  2002\n",
       "2 2002-01-01      T  001AEC   0.015566   10Y  SNRFOR  United States  2002\n",
       "3 2002-01-01      T  001AEC   0.013413    1Y  SNRFOR  United States  2002\n",
       "4 2002-01-01      T  001AEC   0.012417    1Y  SNRFOR  United States  2002"
      ]
     },
     "execution_count": 3,
     "metadata": {},
     "output_type": "execute_result"
    }
   ],
   "source": [
    "cds_df.head()"
   ]
  },
  {
   "cell_type": "code",
   "execution_count": 57,
   "metadata": {},
   "outputs": [
    {
     "data": {
      "text/plain": [
       "Index(['date', 'ticker', 'redcode', 'parspread', 'tenor', 'tier', 'country',\n",
       "       'year'],\n",
       "      dtype='object')"
      ]
     },
     "execution_count": 57,
     "metadata": {},
     "output_type": "execute_result"
    }
   ],
   "source": [
    "cds_df.columns"
   ]
  },
  {
   "cell_type": "code",
   "execution_count": 6,
   "metadata": {},
   "outputs": [
    {
     "data": {
      "text/plain": [
       "(52227940, 8)"
      ]
     },
     "execution_count": 6,
     "metadata": {},
     "output_type": "execute_result"
    }
   ],
   "source": [
    "cds_df.dropna(subset=['date', 'parspread', 'tenor', 'redcode']).shape"
   ]
  },
  {
   "cell_type": "code",
   "execution_count": null,
   "metadata": {},
   "outputs": [
    {
     "data": {
      "text/plain": [
       "(52324311, 8)"
      ]
     },
     "execution_count": 5,
     "metadata": {},
     "output_type": "execute_result"
    }
   ],
   "source": [
    "cds_df.shape"
   ]
  },
  {
   "cell_type": "code",
   "execution_count": 8,
   "metadata": {},
   "outputs": [],
   "source": [
    "date_set = set(fin_df.date.unique())"
   ]
  },
  {
   "cell_type": "code",
   "execution_count": 9,
   "metadata": {},
   "outputs": [],
   "source": [
    "c_df = cds_df.copy()\n",
    "f_df = fin_df.copy()\n",
    "\n",
    "c_df = c_df[c_df['date'].isin(date_set)].dropna(subset=['date', 'parspread', 'tenor', 'redcode'])"
   ]
  },
  {
   "cell_type": "code",
   "execution_count": 10,
   "metadata": {},
   "outputs": [],
   "source": [
    "c_df_avg = c_df.groupby(c_df.columns.difference(['parspread']).tolist(), as_index=False).agg({'parspread': 'median'})"
   ]
  },
  {
   "cell_type": "code",
   "execution_count": 11,
   "metadata": {},
   "outputs": [
    {
     "data": {
      "text/plain": [
       "count    419554.000000\n",
       "mean          0.018084\n",
       "std           0.059668\n",
       "min           0.000020\n",
       "25%           0.003591\n",
       "50%           0.007709\n",
       "75%           0.016946\n",
       "max           6.818997\n",
       "Name: parspread, dtype: float64"
      ]
     },
     "execution_count": 11,
     "metadata": {},
     "output_type": "execute_result"
    }
   ],
   "source": [
    "c_df_avg['parspread'].describe()"
   ]
  },
  {
   "cell_type": "code",
   "execution_count": 12,
   "metadata": {},
   "outputs": [],
   "source": [
    "df_unique_count = c_df_avg.groupby(['redcode', 'date'])['tenor'].nunique().reset_index()\n",
    "\n",
    "# Rename column for clarity\n",
    "df_unique_count.rename(columns={'tenor': 'unique_tenor_count'}, inplace=True)\n",
    "\n",
    "df_unique_count = df_unique_count[df_unique_count['unique_tenor_count'] > 1]\n",
    "\n",
    "filtered_df = c_df_avg.merge(df_unique_count[['redcode', 'date']], on=['redcode', 'date'], how='inner')\n"
   ]
  },
  {
   "cell_type": "code",
   "execution_count": 13,
   "metadata": {},
   "outputs": [],
   "source": [
    "# Mapping tenor to days\n",
    "tenor_to_days = {\n",
    "    \"1Y\": 365,\n",
    "    \"3Y\": 3 * 365,\n",
    "    \"5Y\": 5 * 365,\n",
    "    \"7Y\": 7 * 365,\n",
    "    \"10Y\": 10 * 365\n",
    "}\n",
    "\n",
    "# Convert tenor to days\n",
    "filtered_df['tenor_days'] = filtered_df['tenor'].map(tenor_to_days)\n",
    "\n",
    "# Dictionary to store cubic splines for each (redcode, date) pair\n",
    "cubic_splines = {}\n",
    "\n",
    "# Group by (redcode, date) and create splines\n",
    "for (redcode, date), group in filtered_df.groupby(['redcode', 'date']):\n",
    "    x = group['tenor_days'].values  # Tenor in days (independent variable)\n",
    "    y = group['parspread'].values   # Par spread (dependent variable)\n",
    "    \n",
    "    # Ensure data is sorted by tenor days before fitting spline\n",
    "    sorted_indices = np.argsort(x)\n",
    "    x_sorted, y_sorted = x[sorted_indices], y[sorted_indices]\n",
    "\n",
    "    # Fit cubic spline\n",
    "    try:\n",
    "        cubic_splines[(redcode, date)] = CubicSpline(x_sorted, y_sorted)\n",
    "    except:\n",
    "        print(x_sorted)\n",
    "        print(y_sorted)"
   ]
  },
  {
   "cell_type": "code",
   "execution_count": 20,
   "metadata": {},
   "outputs": [
    {
     "data": {
      "text/plain": [
       "(557455, 12)"
      ]
     },
     "execution_count": 20,
     "metadata": {},
     "output_type": "execute_result"
    }
   ],
   "source": [
    "f_df.shape"
   ]
  },
  {
   "cell_type": "code",
   "execution_count": 22,
   "metadata": {},
   "outputs": [],
   "source": [
    "red_set = set(filtered_df['redcode'].unique())\n",
    "\n",
    "f_df = f_df[f_df['redcode'].isin(red_set)]"
   ]
  },
  {
   "cell_type": "code",
   "execution_count": 25,
   "metadata": {},
   "outputs": [],
   "source": [
    "f_df['days'] = (f_df['maturity'] - f_df['date']).dt.days"
   ]
  },
  {
   "cell_type": "code",
   "execution_count": 30,
   "metadata": {},
   "outputs": [],
   "source": [
    "def add_par_spread_vectorized(f_df):\n",
    "    # Create a mask for existing (redcode, date) pairs in cubic_splines\n",
    "    mask = f_df.set_index(['redcode', 'date']).index.isin(cubic_splines.keys())\n",
    "\n",
    "    # Apply spline interpolation only for matching keys\n",
    "    valid_rows = f_df.loc[mask]\n",
    "    f_df.loc[mask, 'par_spread'] = valid_rows.apply(\n",
    "        lambda row: cubic_splines[(row['redcode'], row['date'])](row['days']), axis=1\n",
    "    )\n",
    "\n",
    "    # Fill non-matching rows with NaN\n",
    "    f_df['par_spread'] = f_df['par_spread'].fillna(np.nan)\n",
    "    \n",
    "    return f_df"
   ]
  },
  {
   "cell_type": "code",
   "execution_count": 31,
   "metadata": {},
   "outputs": [],
   "source": [
    "par_df = add_par_spread_vectorized(f_df)"
   ]
  },
  {
   "cell_type": "code",
   "execution_count": 33,
   "metadata": {},
   "outputs": [],
   "source": [
    "par_df = par_df.dropna(subset=['par_spread'])"
   ]
  },
  {
   "cell_type": "markdown",
   "metadata": {},
   "source": [
    "# Probably add another function here "
   ]
  },
  {
   "cell_type": "code",
   "execution_count": 34,
   "metadata": {},
   "outputs": [
    {
     "data": {
      "text/html": [
       "<div>\n",
       "<style scoped>\n",
       "    .dataframe tbody tr th:only-of-type {\n",
       "        vertical-align: middle;\n",
       "    }\n",
       "\n",
       "    .dataframe tbody tr th {\n",
       "        vertical-align: top;\n",
       "    }\n",
       "\n",
       "    .dataframe thead th {\n",
       "        text-align: right;\n",
       "    }\n",
       "</style>\n",
       "<table border=\"1\" class=\"dataframe\">\n",
       "  <thead>\n",
       "    <tr style=\"text-align: right;\">\n",
       "      <th></th>\n",
       "      <th>cusip</th>\n",
       "      <th>company_symbol</th>\n",
       "      <th>date</th>\n",
       "      <th>maturity</th>\n",
       "      <th>amount_outstanding</th>\n",
       "      <th>yield</th>\n",
       "      <th>rating</th>\n",
       "      <th>price_eom</th>\n",
       "      <th>t_spread</th>\n",
       "      <th>treas_yld</th>\n",
       "      <th>issuer_cusip</th>\n",
       "      <th>redcode</th>\n",
       "      <th>days</th>\n",
       "      <th>par_spread_interpolated</th>\n",
       "      <th>par_spread</th>\n",
       "    </tr>\n",
       "  </thead>\n",
       "  <tbody>\n",
       "    <tr>\n",
       "      <th>0</th>\n",
       "      <td>001957AM1</td>\n",
       "      <td>T</td>\n",
       "      <td>2002-07-31</td>\n",
       "      <td>2004-04-01</td>\n",
       "      <td>400000.0</td>\n",
       "      <td>0.085600</td>\n",
       "      <td>1</td>\n",
       "      <td>97.213129</td>\n",
       "      <td>0.014847</td>\n",
       "      <td>0.020340</td>\n",
       "      <td>001957</td>\n",
       "      <td>001AEC</td>\n",
       "      <td>610</td>\n",
       "      <td>0.06915381590725042</td>\n",
       "      <td>0.06915381590725042</td>\n",
       "    </tr>\n",
       "    <tr>\n",
       "      <th>4</th>\n",
       "      <td>001957AM1</td>\n",
       "      <td>T</td>\n",
       "      <td>2002-09-30</td>\n",
       "      <td>2004-04-01</td>\n",
       "      <td>400000.0</td>\n",
       "      <td>0.066960</td>\n",
       "      <td>1</td>\n",
       "      <td>100.066504</td>\n",
       "      <td>0.007308</td>\n",
       "      <td>0.015797</td>\n",
       "      <td>001957</td>\n",
       "      <td>001AEC</td>\n",
       "      <td>549</td>\n",
       "      <td>0.04684339997240904</td>\n",
       "      <td>0.04684339997240904</td>\n",
       "    </tr>\n",
       "    <tr>\n",
       "      <th>6</th>\n",
       "      <td>001957AM1</td>\n",
       "      <td>T</td>\n",
       "      <td>2002-10-31</td>\n",
       "      <td>2004-04-01</td>\n",
       "      <td>400000.0</td>\n",
       "      <td>0.066670</td>\n",
       "      <td>0</td>\n",
       "      <td>100.112053</td>\n",
       "      <td>0.007682</td>\n",
       "      <td>0.014777</td>\n",
       "      <td>001957</td>\n",
       "      <td>001AEC</td>\n",
       "      <td>518</td>\n",
       "      <td>0.03971921799722878</td>\n",
       "      <td>0.03971921799722878</td>\n",
       "    </tr>\n",
       "    <tr>\n",
       "      <th>10</th>\n",
       "      <td>001957AM1</td>\n",
       "      <td>T</td>\n",
       "      <td>2002-12-31</td>\n",
       "      <td>2004-04-01</td>\n",
       "      <td>123856.0</td>\n",
       "      <td>0.036044</td>\n",
       "      <td>0</td>\n",
       "      <td>103.810897</td>\n",
       "      <td>0.010935</td>\n",
       "      <td>0.012791</td>\n",
       "      <td>001957</td>\n",
       "      <td>001AEC</td>\n",
       "      <td>457</td>\n",
       "      <td>0.022668570693580196</td>\n",
       "      <td>0.022668570693580196</td>\n",
       "    </tr>\n",
       "    <tr>\n",
       "      <th>12</th>\n",
       "      <td>001957AM1</td>\n",
       "      <td>T</td>\n",
       "      <td>2003-01-31</td>\n",
       "      <td>2004-04-01</td>\n",
       "      <td>123856.0</td>\n",
       "      <td>0.036545</td>\n",
       "      <td>0</td>\n",
       "      <td>103.500000</td>\n",
       "      <td>0.010090</td>\n",
       "      <td>0.013383</td>\n",
       "      <td>001957</td>\n",
       "      <td>001AEC</td>\n",
       "      <td>426</td>\n",
       "      <td>0.024193934800591666</td>\n",
       "      <td>0.024193934800591666</td>\n",
       "    </tr>\n",
       "  </tbody>\n",
       "</table>\n",
       "</div>"
      ],
      "text/plain": [
       "        cusip company_symbol       date   maturity  amount_outstanding  \\\n",
       "0   001957AM1              T 2002-07-31 2004-04-01            400000.0   \n",
       "4   001957AM1              T 2002-09-30 2004-04-01            400000.0   \n",
       "6   001957AM1              T 2002-10-31 2004-04-01            400000.0   \n",
       "10  001957AM1              T 2002-12-31 2004-04-01            123856.0   \n",
       "12  001957AM1              T 2003-01-31 2004-04-01            123856.0   \n",
       "\n",
       "       yield  rating   price_eom  t_spread  treas_yld issuer_cusip redcode  \\\n",
       "0   0.085600       1   97.213129  0.014847   0.020340       001957  001AEC   \n",
       "4   0.066960       1  100.066504  0.007308   0.015797       001957  001AEC   \n",
       "6   0.066670       0  100.112053  0.007682   0.014777       001957  001AEC   \n",
       "10  0.036044       0  103.810897  0.010935   0.012791       001957  001AEC   \n",
       "12  0.036545       0  103.500000  0.010090   0.013383       001957  001AEC   \n",
       "\n",
       "    days par_spread_interpolated            par_spread  \n",
       "0    610     0.06915381590725042   0.06915381590725042  \n",
       "4    549     0.04684339997240904   0.04684339997240904  \n",
       "6    518     0.03971921799722878   0.03971921799722878  \n",
       "10   457    0.022668570693580196  0.022668570693580196  \n",
       "12   426    0.024193934800591666  0.024193934800591666  "
      ]
     },
     "execution_count": 34,
     "metadata": {},
     "output_type": "execute_result"
    }
   ],
   "source": [
    "par_df.head()"
   ]
  },
  {
   "cell_type": "code",
   "execution_count": 35,
   "metadata": {},
   "outputs": [
    {
     "data": {
      "text/html": [
       "<div>\n",
       "<style scoped>\n",
       "    .dataframe tbody tr th:only-of-type {\n",
       "        vertical-align: middle;\n",
       "    }\n",
       "\n",
       "    .dataframe tbody tr th {\n",
       "        vertical-align: top;\n",
       "    }\n",
       "\n",
       "    .dataframe thead th {\n",
       "        text-align: right;\n",
       "    }\n",
       "</style>\n",
       "<table border=\"1\" class=\"dataframe\">\n",
       "  <thead>\n",
       "    <tr style=\"text-align: right;\">\n",
       "      <th></th>\n",
       "      <th>cusip</th>\n",
       "      <th>date</th>\n",
       "      <th>maturity</th>\n",
       "      <th>yield</th>\n",
       "      <th>rating</th>\n",
       "      <th>treas_yld</th>\n",
       "      <th>par_spread</th>\n",
       "    </tr>\n",
       "  </thead>\n",
       "  <tbody>\n",
       "    <tr>\n",
       "      <th>0</th>\n",
       "      <td>001957AM1</td>\n",
       "      <td>2002-07-31</td>\n",
       "      <td>2004-04-01</td>\n",
       "      <td>0.085600</td>\n",
       "      <td>1</td>\n",
       "      <td>0.020340</td>\n",
       "      <td>0.06915381590725042</td>\n",
       "    </tr>\n",
       "    <tr>\n",
       "      <th>4</th>\n",
       "      <td>001957AM1</td>\n",
       "      <td>2002-09-30</td>\n",
       "      <td>2004-04-01</td>\n",
       "      <td>0.066960</td>\n",
       "      <td>1</td>\n",
       "      <td>0.015797</td>\n",
       "      <td>0.04684339997240904</td>\n",
       "    </tr>\n",
       "    <tr>\n",
       "      <th>6</th>\n",
       "      <td>001957AM1</td>\n",
       "      <td>2002-10-31</td>\n",
       "      <td>2004-04-01</td>\n",
       "      <td>0.066670</td>\n",
       "      <td>0</td>\n",
       "      <td>0.014777</td>\n",
       "      <td>0.03971921799722878</td>\n",
       "    </tr>\n",
       "    <tr>\n",
       "      <th>10</th>\n",
       "      <td>001957AM1</td>\n",
       "      <td>2002-12-31</td>\n",
       "      <td>2004-04-01</td>\n",
       "      <td>0.036044</td>\n",
       "      <td>0</td>\n",
       "      <td>0.012791</td>\n",
       "      <td>0.022668570693580196</td>\n",
       "    </tr>\n",
       "    <tr>\n",
       "      <th>12</th>\n",
       "      <td>001957AM1</td>\n",
       "      <td>2003-01-31</td>\n",
       "      <td>2004-04-01</td>\n",
       "      <td>0.036545</td>\n",
       "      <td>0</td>\n",
       "      <td>0.013383</td>\n",
       "      <td>0.024193934800591666</td>\n",
       "    </tr>\n",
       "    <tr>\n",
       "      <th>...</th>\n",
       "      <td>...</td>\n",
       "      <td>...</td>\n",
       "      <td>...</td>\n",
       "      <td>...</td>\n",
       "      <td>...</td>\n",
       "      <td>...</td>\n",
       "      <td>...</td>\n",
       "    </tr>\n",
       "    <tr>\n",
       "      <th>557259</th>\n",
       "      <td>110122DZ8</td>\n",
       "      <td>2023-11-30</td>\n",
       "      <td>2033-11-15</td>\n",
       "      <td>0.052103</td>\n",
       "      <td>0</td>\n",
       "      <td>0.043705</td>\n",
       "      <td>0.006426885731044571</td>\n",
       "    </tr>\n",
       "    <tr>\n",
       "      <th>557264</th>\n",
       "      <td>133131BA9</td>\n",
       "      <td>2023-11-30</td>\n",
       "      <td>2026-11-03</td>\n",
       "      <td>0.052437</td>\n",
       "      <td>0</td>\n",
       "      <td>0.044739</td>\n",
       "      <td>0.0008289399235831619</td>\n",
       "    </tr>\n",
       "    <tr>\n",
       "      <th>557269</th>\n",
       "      <td>63743HFK3</td>\n",
       "      <td>2023-11-30</td>\n",
       "      <td>2026-11-13</td>\n",
       "      <td>0.050558</td>\n",
       "      <td>0</td>\n",
       "      <td>0.044795</td>\n",
       "      <td>0.001155872907852163</td>\n",
       "    </tr>\n",
       "    <tr>\n",
       "      <th>557307</th>\n",
       "      <td>883203CD1</td>\n",
       "      <td>2023-11-30</td>\n",
       "      <td>2033-11-15</td>\n",
       "      <td>0.056958</td>\n",
       "      <td>0</td>\n",
       "      <td>0.043705</td>\n",
       "      <td>0.017181684693239697</td>\n",
       "    </tr>\n",
       "    <tr>\n",
       "      <th>557322</th>\n",
       "      <td>02665WEV9</td>\n",
       "      <td>2023-11-30</td>\n",
       "      <td>2028-11-15</td>\n",
       "      <td>0.050826</td>\n",
       "      <td>0</td>\n",
       "      <td>0.043683</td>\n",
       "      <td>0.005357974000018276</td>\n",
       "    </tr>\n",
       "  </tbody>\n",
       "</table>\n",
       "<p>243460 rows × 7 columns</p>\n",
       "</div>"
      ],
      "text/plain": [
       "            cusip       date   maturity     yield  rating  treas_yld  \\\n",
       "0       001957AM1 2002-07-31 2004-04-01  0.085600       1   0.020340   \n",
       "4       001957AM1 2002-09-30 2004-04-01  0.066960       1   0.015797   \n",
       "6       001957AM1 2002-10-31 2004-04-01  0.066670       0   0.014777   \n",
       "10      001957AM1 2002-12-31 2004-04-01  0.036044       0   0.012791   \n",
       "12      001957AM1 2003-01-31 2004-04-01  0.036545       0   0.013383   \n",
       "...           ...        ...        ...       ...     ...        ...   \n",
       "557259  110122DZ8 2023-11-30 2033-11-15  0.052103       0   0.043705   \n",
       "557264  133131BA9 2023-11-30 2026-11-03  0.052437       0   0.044739   \n",
       "557269  63743HFK3 2023-11-30 2026-11-13  0.050558       0   0.044795   \n",
       "557307  883203CD1 2023-11-30 2033-11-15  0.056958       0   0.043705   \n",
       "557322  02665WEV9 2023-11-30 2028-11-15  0.050826       0   0.043683   \n",
       "\n",
       "                   par_spread  \n",
       "0         0.06915381590725042  \n",
       "4         0.04684339997240904  \n",
       "6         0.03971921799722878  \n",
       "10       0.022668570693580196  \n",
       "12       0.024193934800591666  \n",
       "...                       ...  \n",
       "557259   0.006426885731044571  \n",
       "557264  0.0008289399235831619  \n",
       "557269   0.001155872907852163  \n",
       "557307   0.017181684693239697  \n",
       "557322   0.005357974000018276  \n",
       "\n",
       "[243460 rows x 7 columns]"
      ]
     },
     "execution_count": 35,
     "metadata": {},
     "output_type": "execute_result"
    }
   ],
   "source": [
    "man_df = par_df[['cusip', 'date', 'maturity', 'yield', 'rating', 'treas_yld', 'par_spread']]\n",
    "\n",
    "man_df"
   ]
  },
  {
   "cell_type": "code",
   "execution_count": 43,
   "metadata": {},
   "outputs": [
    {
     "name": "stderr",
     "output_type": "stream",
     "text": [
      "C:\\Users\\xuv14\\AppData\\Local\\Temp\\ipykernel_33636\\2737731927.py:11: FutureWarning: DataFrame.applymap has been deprecated. Use DataFrame.map instead.\n",
      "  man_df = man_df.applymap(safe_convert)\n"
     ]
    }
   ],
   "source": [
    "def safe_convert(x):\n",
    "    \"\"\"Convert lists and arrays to tuples while keeping other data types unchanged.\"\"\"\n",
    "    if isinstance(x, list):\n",
    "        return tuple(x)\n",
    "    elif isinstance(x, np.ndarray):\n",
    "        return tuple(x.tolist()) if x.ndim > 0 else x.item()  # Convert array to tuple if not scalar\n",
    "    else:\n",
    "        return x\n",
    "\n",
    "# Apply safe conversion\n",
    "man_df = man_df.applymap(safe_convert)"
   ]
  },
  {
   "cell_type": "code",
   "execution_count": 46,
   "metadata": {},
   "outputs": [],
   "source": [
    "man_df = man_df.drop_duplicates()"
   ]
  },
  {
   "cell_type": "code",
   "execution_count": null,
   "metadata": {},
   "outputs": [
    {
     "name": "stderr",
     "output_type": "stream",
     "text": [
      "C:\\Users\\xuv14\\AppData\\Local\\Temp\\ipykernel_33636\\1552649717.py:1: SettingWithCopyWarning: \n",
      "A value is trying to be set on a copy of a slice from a DataFrame.\n",
      "Try using .loc[row_indexer,col_indexer] = value instead\n",
      "\n",
      "See the caveats in the documentation: https://pandas.pydata.org/pandas-docs/stable/user_guide/indexing.html#returning-a-view-versus-a-copy\n",
      "  man_df['FR'] = man_df['yield'] - man_df['treas_yld']\n",
      "C:\\Users\\xuv14\\AppData\\Local\\Temp\\ipykernel_33636\\1552649717.py:2: SettingWithCopyWarning: \n",
      "A value is trying to be set on a copy of a slice from a DataFrame.\n",
      "Try using .loc[row_indexer,col_indexer] = value instead\n",
      "\n",
      "See the caveats in the documentation: https://pandas.pydata.org/pandas-docs/stable/user_guide/indexing.html#returning-a-view-versus-a-copy\n",
      "  man_df['CB'] = man_df['par_spread'] - man_df['FR']\n",
      "C:\\Users\\xuv14\\AppData\\Local\\Temp\\ipykernel_33636\\1552649717.py:3: SettingWithCopyWarning: \n",
      "A value is trying to be set on a copy of a slice from a DataFrame.\n",
      "Try using .loc[row_indexer,col_indexer] = value instead\n",
      "\n",
      "See the caveats in the documentation: https://pandas.pydata.org/pandas-docs/stable/user_guide/indexing.html#returning-a-view-versus-a-copy\n",
      "  man_df['rfr'] = man_df['treas_yld'] - man_df['CB']\n"
     ]
    }
   ],
   "source": [
    "man_df['FR'] = man_df['yield'] - man_df['treas_yld']\n",
    "man_df['CB'] = man_df['par_spread'] - man_df['FR']\n",
    "man_df['rfr'] = man_df['treas_yld'] - man_df['CB']"
   ]
  },
  {
   "cell_type": "code",
   "execution_count": 49,
   "metadata": {},
   "outputs": [],
   "source": [
    "count_df = man_df.groupby(['date', 'rating']).size().reset_index(name='count')\n",
    "\n",
    "# Compute the mean 'rfr' per (date, rating) pair\n",
    "df1 = man_df.groupby(['date', 'rating'])['rfr'].mean().reset_index()"
   ]
  },
  {
   "cell_type": "code",
   "execution_count": 55,
   "metadata": {},
   "outputs": [],
   "source": [
    "df1 = df1[df1.rfr < 1]"
   ]
  },
  {
   "cell_type": "code",
   "execution_count": 56,
   "metadata": {},
   "outputs": [
    {
     "data": {
      "image/png": "[encoded data removed]",
      "text/plain": [
       "<Figure size 1200x600 with 1 Axes>"
      ]
     },
     "metadata": {},
     "output_type": "display_data"
    }
   ],
   "source": [
    "plt.figure(figsize=(12, 6))\n",
    "\n",
    "# Plot for rating 0\n",
    "df1_rating_0 = df1[df1['rating'] == 0]\n",
    "plt.plot(df1_rating_0['date'], df1_rating_0['rfr'], label=\"Rating 0\", linestyle='-', marker='o')\n",
    "\n",
    "# Plot for rating 1\n",
    "df1_rating_1 = df1[df1['rating'] == 1]\n",
    "plt.plot(df1_rating_1['date'], df1_rating_1['rfr'], label=\"Rating 1\", linestyle='-', marker='s')\n",
    "\n",
    "# Formatting the plot\n",
    "plt.xlabel(\"Date\")\n",
    "plt.ylabel(\"Mean RFR\")\n",
    "plt.title(\"Mean RFR Over Time for Ratings 0 and 1\")\n",
    "plt.xticks(rotation=45)\n",
    "plt.legend()\n",
    "plt.grid(True)\n",
    "\n",
    "# Show the plot\n",
    "plt.show()"
   ]
  }
 ],
 "metadata": {
  "kernelspec": {
   "display_name": "myenv",
   "language": "python",
   "name": "python3"
  },
  "language_info": {
   "codemirror_mode": {
    "name": "ipython",
    "version": 3
   },
   "file_extension": ".py",
   "mimetype": "text/x-python",
   "name": "python",
   "nbconvert_exporter": "python",
   "pygments_lexer": "ipython3",
   "version": "3.12.7"
  }
 },
 "nbformat": 4,
 "nbformat_minor": 4
}
