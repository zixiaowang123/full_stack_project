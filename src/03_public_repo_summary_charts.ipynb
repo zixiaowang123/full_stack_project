{
 "cells": [
  {
   "cell_type": "markdown",
   "id": "83ad70f5",
   "metadata": {},
   "source": [
    "# 03. Public Repo Summary Charts\n",
    "This contains a few summary stats and basic charts to get a better understanding of repo.\n",
    "\n",
    "\n",
    "## Load and Format Data"
   ]
  },
  {
   "cell_type": "code",
   "execution_count": null,
   "id": "120c576e",
   "metadata": {},
   "outputs": [],
   "source": [
    "import pandas as pd\n",
    "import numpy as np\n",
    "from matplotlib import pyplot as plt\n",
    "\n",
    "import pull_fred\n",
    "import pull_public_repo_data"
   ]
  },
  {
   "cell_type": "code",
   "execution_count": null,
   "id": "132cd388",
   "metadata": {},
   "outputs": [],
   "source": [
    "from pathlib import Path\n",
    "from settings import config\n",
    "\n",
    "OUTPUT_DIR = Path(config(\"OUTPUT_DIR\"))\n",
    "DATA_DIR = Path(config(\"DATA_DIR\"))"
   ]
  },
  {
   "cell_type": "code",
   "execution_count": null,
   "id": "fda49ba9",
   "metadata": {},
   "outputs": [],
   "source": [
    "pull_public_repo_data.series_descriptions"
   ]
  },
  {
   "cell_type": "code",
   "execution_count": null,
   "id": "4bb05ae0",
   "metadata": {},
   "outputs": [],
   "source": [
    "df = pull_public_repo_data.load_all(data_dir = DATA_DIR)\n",
    "df = df.loc[\"2012-01-01\":,:]\n",
    "\n",
    "df['target_midpoint'] = (df['DFEDTARU'] + df['DFEDTARL'])/2\n",
    "df['SOFR-IORB'] = df['SOFR'] - df['Gen_IORB']\n",
    "\n",
    "df['Fed Balance Sheet / GDP'] = df['WALCL'] / df['GDP']\n",
    "df['Tri-Party - Fed ON/RRP Rate'] = (df['REPO-TRI_AR_OO-P'] - df['RRPONTSYAWARD']) * 100\n",
    "df['Tri-Party Rate Less Fed Funds Upper Limit'] = (df['REPO-TRI_AR_OO-P'] - df['DFEDTARU']) * 100\n",
    "df['Tri-Party Rate Less Fed Funds Midpoint'] = (df['REPO-TRI_AR_OO-P'] - (df['DFEDTARU'] + df['DFEDTARL'])/2) * 100\n",
    "\n",
    "df['net_fed_repo'] = (df['RPONTSYD'] - df['RRPONTSYD']) / 1000 # Fed Repo minus reverse repo volume\n",
    "df['Total Reserves / Currency'] = df['TOTRESNS'] / df['CURRCIR'] # total reserves among depository institutions vs currency in circulation\n",
    "df['Total Reserves / GDP'] = df['TOTRESNS'] / df['GDP']\n",
    "\n",
    "df['SOFR (extended with Tri-Party)'] = df['SOFR'].fillna(df['REPO-TRI_AR_OO-P'])\n",
    "\n",
    "new_labels = {\n",
    "    'REPO-TRI_AR_OO-P':'Tri-Party Overnight Average Rate',\n",
    "    'RRPONTSYAWARD': 'ON-RRP facility rate',\n",
    "    'Gen_IORB': 'Interest on Reserves',\n",
    "}\n"
   ]
  },
  {
   "cell_type": "markdown",
   "id": "b7e33090",
   "metadata": {},
   "source": [
    "### Rates Relative to Fed Funds Target Midpoint\n",
    "Normalize rates to be centered at the fed funds target window midpoint."
   ]
  },
  {
   "cell_type": "code",
   "execution_count": null,
   "id": "b7b77df3",
   "metadata": {},
   "outputs": [],
   "source": [
    "df_norm = pd.DataFrame().reindex_like(df[['target_midpoint']])\n",
    "df_norm[['target_midpoint']] = 0\n",
    "\n",
    "for s in ['DFEDTARU', 'DFEDTARL', 'REPO-TRI_AR_OO-P', \n",
    "          'EFFR', 'target_midpoint', \n",
    "          'Gen_IORB', 'RRPONTSYAWARD', \n",
    "          'SOFR', \"SOFR (extended with Tri-Party)\",\n",
    "          \"FNYR-BGCR-A\", \"FNYR-TGCR-A\"]:\n",
    "    df_norm[s] = df[s] - df['target_midpoint']\n"
   ]
  },
  {
   "cell_type": "markdown",
   "id": "adb8638c",
   "metadata": {},
   "source": [
    "## Replicate \"Anatomy of a Repo Spike\" Charts\n",
    "\n",
    "Replicate Figure 1 from \"Anatomy of the Repo Rate Spikes\""
   ]
  },
  {
   "cell_type": "code",
   "execution_count": null,
   "id": "4bd26582",
   "metadata": {},
   "outputs": [],
   "source": [
    "fig, ax = plt.subplots()\n",
    "ax.fill_between(df.index, df['DFEDTARU'], df['DFEDTARL'], alpha=0.5)\n",
    "df[['REPO-TRI_AR_OO-P', 'EFFR']].rename(columns=new_labels).plot(ax=ax)"
   ]
  },
  {
   "cell_type": "code",
   "execution_count": null,
   "id": "6efb0afb",
   "metadata": {},
   "outputs": [],
   "source": [
    "fig, ax = plt.subplots()\n",
    "date_start = '2014-Aug'\n",
    "date_end = '2019-Dec'\n",
    "_df = df.loc[date_start:date_end, :]\n",
    "ax.fill_between(_df.index, _df['DFEDTARU'], _df['DFEDTARL'], alpha=0.5)\n",
    "_df[['REPO-TRI_AR_OO-P', 'EFFR']].rename(columns=new_labels).plot(ax=ax)\n",
    "# plt.ylim(-0.2, 1.0)"
   ]
  },
  {
   "cell_type": "code",
   "execution_count": null,
   "id": "0852575f",
   "metadata": {},
   "outputs": [],
   "source": [
    "fig, ax = plt.subplots()\n",
    "date_start = '2014-Aug'\n",
    "date_end = '2019-Dec'\n",
    "_df = df_norm.loc[date_start:date_end, :]\n",
    "ax.fill_between(_df.index, _df['DFEDTARU'], _df['DFEDTARL'], alpha=0.2)\n",
    "_df[['REPO-TRI_AR_OO-P', 'EFFR']].rename(columns=new_labels).plot(ax=ax)\n",
    "plt.ylim(-0.4, 1.0)\n",
    "plt.ylabel(\"Spread of federal feds target midpoint (percent)\")\n",
    "arrowprops = dict( \n",
    "    arrowstyle = \"->\"\n",
    ")\n",
    "ax.annotate('Sep. 17, 2019: 3.06%', \n",
    "            xy=('2019-Sep-17', 0.95), \n",
    "            xytext=('2017-Oct-27', 0.9),\n",
    "            arrowprops = arrowprops);"
   ]
  },
  {
   "cell_type": "code",
   "execution_count": null,
   "id": "34df5d1c",
   "metadata": {},
   "outputs": [],
   "source": [
    "fig, ax = plt.subplots()\n",
    "date_start = '2014-Aug'\n",
    "date_end = '2019-Dec'\n",
    "_df = df_norm.loc[date_start:date_end, :].copy()\n",
    "\n",
    "ax.fill_between(_df.index, _df['DFEDTARU'], _df['DFEDTARL'], alpha=0.2)\n",
    "_df[['REPO-TRI_AR_OO-P', 'EFFR', 'Gen_IORB', 'RRPONTSYAWARD']].rename(columns=new_labels).plot(ax=ax)\n",
    "plt.ylim(-0.4, 1.0)\n",
    "plt.ylabel(\"Spread of federal feds target midpoint (percent)\")\n",
    "arrowprops = dict( \n",
    "    arrowstyle = \"->\"\n",
    ")\n",
    "ax.annotate('Sep. 17, 2019: 3.06%', \n",
    "            xy=('2019-Sep-17', 0.95), \n",
    "            xytext=('2017-Oct-27', 0.9),\n",
    "            arrowprops = arrowprops);"
   ]
  },
  {
   "cell_type": "code",
   "execution_count": null,
   "id": "8b0f8fb3",
   "metadata": {},
   "outputs": [],
   "source": [
    "fig, ax = plt.subplots()\n",
    "date_start = '2018-Apr'\n",
    "date_end = None\n",
    "_df = df_norm.loc[date_start:date_end, :].copy()\n",
    "\n",
    "ax.fill_between(_df.index, _df['DFEDTARU'], _df['DFEDTARL'], alpha=0.1)\n",
    "_df = _df[[\n",
    "    'SOFR', \n",
    "    # 'EFFR', \n",
    "    'Gen_IORB', \n",
    "    'RRPONTSYAWARD'\n",
    "    ]].rename(columns=new_labels)\n",
    "_df.plot(ax=ax)\n",
    "plt.ylim(-0.4, 1.0)\n",
    "plt.ylabel(\"Rate relative to Federal Funds target midpoint (percent)\")\n",
    "arrowprops = dict( \n",
    "    arrowstyle = \"->\"\n",
    ")\n",
    "ax.legend(loc='center left', bbox_to_anchor=(1, 0.5))\n",
    "ax.annotate('Sep. 17, 2019: 3.06%', \n",
    "            xy=('2019-Sep-17', 0.95), \n",
    "            xytext=('2020-Oct-27', 0.9),\n",
    "            arrowprops = arrowprops);\n",
    "\n",
    "\n",
    "\n",
    "# plt.tight_layout()\n",
    "plt.savefig(OUTPUT_DIR / \"rates_relative_to_midpoint.png\")"
   ]
  },
  {
   "cell_type": "code",
   "execution_count": null,
   "id": "63203a19",
   "metadata": {},
   "outputs": [],
   "source": [
    "fig, ax = plt.subplots()\n",
    "date_start = '2023-Jul'\n",
    "date_end = None\n",
    "_df = df_norm.loc[date_start:date_end, :].copy()\n",
    "\n",
    "ax.fill_between(_df.index, _df['DFEDTARU'], _df['DFEDTARL'], alpha=0.1)\n",
    "_df[['SOFR', 'EFFR', 'Gen_IORB', 'RRPONTSYAWARD']].rename(columns=new_labels).plot(ax=ax)\n",
    "plt.ylim(-0.4, 1.0)\n",
    "plt.ylabel(\"Spread of federal feds target midpoint (percent)\")\n",
    "arrowprops = dict( \n",
    "    arrowstyle = \"->\"\n",
    ")\n",
    "ax.legend(loc='center left', bbox_to_anchor=(1, 0.5))\n",
    "# ax.annotate('Sep. 17, 2019: 3.06%', \n",
    "#             xy=('2019-Sep-17', 0.95), \n",
    "#             xytext=('2015-Oct-27', 0.9),\n",
    "#             arrowprops = arrowprops);\n"
   ]
  },
  {
   "cell_type": "markdown",
   "id": "e33e5e5e",
   "metadata": {},
   "source": [
    "## Understanding this plot\n",
    "\n",
    "Now, let's spend some time trying to understand this plot. \n",
    "\n",
    "### Reserve Levels vs Spikes\n",
    "First of all, depository intitutions have a choice between keeping their reserves at the Fed and earning interest on reserve balances or lending the money into repo. When the repo rates were spiking in 2018 and 2019, I would imagine that total reserve levels would be low."
   ]
  },
  {
   "cell_type": "code",
   "execution_count": null,
   "id": "4876b467",
   "metadata": {},
   "outputs": [],
   "source": [
    "df['net_fed_repo'] = (df['RPONTSYD'] - df['RRPONTSYD']) / 1000\n",
    "df['triparty_less_fed_onrrp_rate'] = (df['REPO-TRI_AR_OO-P'] - df['RRPONTSYAWARD']) * 100\n",
    "df['total reserves / currency'] = df['TOTRESNS'] / df['CURRCIR']"
   ]
  },
  {
   "cell_type": "code",
   "execution_count": null,
   "id": "730192f7",
   "metadata": {},
   "outputs": [],
   "source": [
    "fig, ax1 = plt.subplots()\n",
    "ax2 = ax1.twinx()\n",
    "df[['TOTRESNS']].rename(\n",
    "    columns=pull_public_repo_data.series_descriptions\n",
    ").plot(ax=ax1,color='g')\n",
    "ax1.set_ylabel('$ Billions')\n",
    "ax2.set_ylabel('Basis Points')\n",
    "ax1.legend(loc='center left', bbox_to_anchor=(1, 1.1))\n",
    "df[['Tri-Party - Fed ON/RRP Rate']].plot(ax=ax2)\n",
    "ax2.legend(loc='center left', bbox_to_anchor=(1, 1));\n"
   ]
  },
  {
   "cell_type": "markdown",
   "id": "18f7c19d",
   "metadata": {},
   "source": [
    "Now, let's normalize by currency in circulation, so as to account for the normal growth in the economy or the financial system. This is done because total reserves is not stationary."
   ]
  },
  {
   "cell_type": "code",
   "execution_count": null,
   "id": "4a0c5294",
   "metadata": {},
   "outputs": [],
   "source": [
    "fig, ax1 = plt.subplots()\n",
    "ax2 = ax1.twinx()\n",
    "_df = df[['Tri-Party - Fed ON/RRP Rate', 'Total Reserves / Currency']]\n",
    "_df[['Total Reserves / Currency']].plot(ax=ax1,color='g')\n",
    "_df[['Tri-Party - Fed ON/RRP Rate']].plot(ax=ax2)\n",
    "ax1.set_ylabel('Ratio')\n",
    "ax2.set_ylabel('Basis Points')\n",
    "ax1.legend(loc='center left', bbox_to_anchor=(1, 1.1))\n",
    "ax2.legend(loc='center left', bbox_to_anchor=(1, 1));\n",
    "\n",
    "# # Shrink current axis's height by 10% on the bottom\n",
    "# box = ax.get_position()\n",
    "# ax1.set_position([box.x0, box.y0 + box.height * 0.1,\n",
    "#                  box.width, box.height * 0.9])\n",
    "\n",
    "# # Put a legend below current axis\n",
    "# ax1.legend(loc='lower center', bbox_to_anchor=(0.5, -0.05),\n",
    "#           fancybox=True, shadow=True, ncol=5)\n",
    "# ax2.legend(loc='lower center', bbox_to_anchor=(0.5, -0.05),\n",
    "#           fancybox=True, shadow=True, ncol=5)\n",
    "\n",
    "# plt.tight_layout()\n",
    "# Total Reserves held by depository institutions, divided by currency in circulation\n",
    "plt.savefig(OUTPUT_DIR / \"repo_rate_spikes_and_relative_reserves_levels.png\")"
   ]
  },
  {
   "cell_type": "markdown",
   "id": "190517c2-cf74-4c95-9ed5-272dc161fd39",
   "metadata": {},
   "source": [
    "### Fed Balance Sheet Size vs Spikes"
   ]
  },
  {
   "cell_type": "code",
   "execution_count": null,
   "id": "bf79f2cb",
   "metadata": {},
   "outputs": [],
   "source": [
    "fig, ax1 = plt.subplots()\n",
    "ax2 = ax1.twinx()\n",
    "\n",
    "date_start = '2016-Jan'\n",
    "date_end = None\n",
    "\n",
    "_df = df_norm.loc[date_start:date_end, :].copy()\n",
    "_df = _df[[\n",
    "    'SOFR (extended with Tri-Party)', \n",
    "    # \"FNYR-BGCR-A\",\n",
    "    # 'EFFR', \n",
    "    # \"FNYR-BGCR-A\", \n",
    "    # \"FNYR-TGCR-A\",\n",
    "    'Gen_IORB', \n",
    "    'RRPONTSYAWARD',\n",
    "    \"DFEDTARU\", # Fed Funds Upper Limit\n",
    "    \"DFEDTARL\", # Fed Funds Lower Limit\n",
    "    ]].rename(columns=new_labels)\n",
    "cols = [\n",
    "    # 'Tri-Party - Fed ON/RRP Rate', \n",
    "    'Fed Balance Sheet / GDP',\n",
    "]\n",
    "for col in cols:\n",
    "    _df[col] = df[col]\n",
    "_df.to_excel(DATA_DIR / \"AR2024_SEC_4_2_Fed_Balance_Sheet_Repo.xlsx\")\n",
    "\n",
    "ax1.fill_between(_df.index, _df['DFEDTARU'], _df['DFEDTARL'], alpha=0.1)\n",
    "\n",
    "_df = df_norm.loc[date_start:date_end, :].copy()\n",
    "_df = _df[[\n",
    "    'SOFR (extended with Tri-Party)', \n",
    "    # \"FNYR-BGCR-A\",\n",
    "    # 'EFFR', \n",
    "    # \"FNYR-BGCR-A\", \n",
    "    # \"FNYR-TGCR-A\",\n",
    "    'Gen_IORB', \n",
    "    'RRPONTSYAWARD'\n",
    "    ]].rename(columns=new_labels)\n",
    "_df.plot(ax=ax1)\n",
    "plt.ylim(-0.4, 1.0)\n",
    "plt.ylabel(\"Rate relative to Federal Funds target midpoint (percent)\")\n",
    "arrowprops = dict( \n",
    "    arrowstyle = \"->\"\n",
    ")\n",
    "ax1.annotate('Sep. 17, 2019: 3.06%', \n",
    "            xy=('2019-Sep-17', 0.95), \n",
    "            xytext=('2020-Oct-27', 0.9),\n",
    "            arrowprops = arrowprops);\n",
    "\n",
    "_df = df[[\n",
    "    \"Tri-Party Rate Less Fed Funds Upper Limit\",\n",
    "    # 'Tri-Party - Fed ON/RRP Rate', \n",
    "    'Fed Balance Sheet / GDP']]\n",
    "# _df[['Tri-Party - Fed ON/RRP Rate']].plot(ax=ax2)\n",
    "\n",
    "_df.loc[date_start:, ['Fed Balance Sheet / GDP']].plot(ax=ax2,color='black', alpha=0.75)\n",
    "\n",
    "ax1.set_ylabel('Basis Points')\n",
    "ax2.set_ylabel('Ratio')\n",
    "ax1.set_ylim([-.2,0.4])\n",
    "ax2.set_ylim([0.10,0.4])\n",
    "ax2.legend(\"\")\n",
    "plt.title(\"Black line is Fed Balance Sheet / GDP\");"
   ]
  },
  {
   "cell_type": "code",
   "execution_count": null,
   "id": "a70355da",
   "metadata": {},
   "outputs": [],
   "source": [
    "_df.loc[\"Sep. 17, 2019\", ['Tri-Party Rate Less Fed Funds Upper Limit']]"
   ]
  },
  {
   "cell_type": "markdown",
   "id": "d442e5ee",
   "metadata": {},
   "source": [
    "### Fed Repo and Reverse Repo Facility Takeup"
   ]
  },
  {
   "cell_type": "code",
   "execution_count": null,
   "id": "d5204037",
   "metadata": {},
   "outputs": [],
   "source": [
    "df[['RPONTSYD','RRPONTSYD']].rename(\n",
    "    columns=pull_public_repo_data.series_descriptions\n",
    ").plot(alpha=0.5)"
   ]
  },
  {
   "cell_type": "code",
   "execution_count": null,
   "id": "31d89da3",
   "metadata": {},
   "outputs": [],
   "source": [
    "# Net Fed Repo Lending (positive is net lending by the Fed.\n",
    "# Negative is the use of the reverse repo facility.)\n",
    "df[['net_fed_repo']].plot()\n",
    "plt.ylabel('$ Trillions');"
   ]
  },
  {
   "cell_type": "code",
   "execution_count": null,
   "id": "deacdacc",
   "metadata": {},
   "outputs": [],
   "source": [
    "# Net Fed Repo Lending (positive is net lending by the Fed.\n",
    "# Negative is the use of the reverse repo facility.)\n",
    "df.loc['2023',['net_fed_repo']].plot()\n",
    "plt.ylabel('$ Trillions');"
   ]
  },
  {
   "cell_type": "code",
   "execution_count": null,
   "id": "d8c5229b",
   "metadata": {},
   "outputs": [],
   "source": [
    "df[['net_fed_repo', 'triparty_less_fed_onrrp_rate']].plot()\n",
    "plt.ylim([-50,100])"
   ]
  },
  {
   "cell_type": "markdown",
   "id": "895f0ebb",
   "metadata": {},
   "source": [
    "The Fed is lending money when the repo rate is spiking. When the repo rate is low relative to the ON/RRP rate, usage of the ON/RRP facility goes up, as can be seen here."
   ]
  },
  {
   "cell_type": "code",
   "execution_count": null,
   "id": "83c52b09",
   "metadata": {},
   "outputs": [],
   "source": [
    "fig, ax1 = plt.subplots()\n",
    "ax2 = ax1.twinx()\n",
    "df[['net_fed_repo']].plot(ax=ax1,color='g')\n",
    "df[['triparty_less_fed_onrrp_rate']].plot(ax=ax2)"
   ]
  },
  {
   "cell_type": "markdown",
   "id": "ead921bb",
   "metadata": {},
   "source": [
    "## How should we define a repo spike?\n",
    "\n",
    "Now, I turn to the question of how to define a repo rate spike. \n",
    "\n",
    "### Fed Fund's Target Range\n",
    "\n",
    "The first way to approach this is to just look at when the triparty rate exceeded the upper bound of the fed's federal funds rate target range."
   ]
  },
  {
   "cell_type": "markdown",
   "id": "58f500b2",
   "metadata": {},
   "source": [
    "**Tri-Party Ave vs Fed Upper Limit**"
   ]
  },
  {
   "cell_type": "code",
   "execution_count": null,
   "id": "de1f53e6",
   "metadata": {},
   "outputs": [],
   "source": [
    "df['is_tri_above_fed_upper'] = df['REPO-TRI_AR_OO-P'] > df['DFEDTARU']"
   ]
  },
  {
   "cell_type": "code",
   "execution_count": null,
   "id": "ae21b8d2",
   "metadata": {},
   "outputs": [],
   "source": [
    "df.index[df['is_tri_above_fed_upper']]"
   ]
  },
  {
   "cell_type": "code",
   "execution_count": null,
   "id": "78d9265e",
   "metadata": {},
   "outputs": [],
   "source": [
    "len(df.index[df['is_tri_above_fed_upper']])"
   ]
  },
  {
   "cell_type": "markdown",
   "id": "00938f92",
   "metadata": {},
   "source": [
    "**SOFR vs Fed Upper Limit**"
   ]
  },
  {
   "cell_type": "code",
   "execution_count": null,
   "id": "86be9b0c",
   "metadata": {},
   "outputs": [],
   "source": [
    "df['is_SOFR_above_fed_upper'] = df['SOFR'] > df['DFEDTARU']\n",
    "len(df.index[df['is_SOFR_above_fed_upper']])"
   ]
  },
  {
   "cell_type": "code",
   "execution_count": null,
   "id": "951f8236",
   "metadata": {},
   "outputs": [],
   "source": [
    "df.index[df['is_SOFR_above_fed_upper']]"
   ]
  },
  {
   "cell_type": "markdown",
   "id": "f8c1661c",
   "metadata": {},
   "source": [
    "**SOFR vs Interest of Reserves**\n",
    "\n",
    "This measure is good because it represents a kind of arbitrage opportunity. Either leave money at Fed to earn interest, or put money into repo market. This is what the paper, \"Reserves were not so amply after all\" uses."
   ]
  },
  {
   "cell_type": "code",
   "execution_count": null,
   "id": "574bd4c2",
   "metadata": {},
   "outputs": [],
   "source": [
    "df[['SOFR-IORB']].dropna(how='all').plot()"
   ]
  },
  {
   "cell_type": "code",
   "execution_count": null,
   "id": "087ca0a9",
   "metadata": {},
   "outputs": [],
   "source": [
    "df['is_SOFR_above_IORB'] =df['SOFR-IORB'] > 0\n",
    "len(df.index[df['is_SOFR_above_IORB']])"
   ]
  },
  {
   "cell_type": "code",
   "execution_count": null,
   "id": "8e79c5ee",
   "metadata": {},
   "outputs": [],
   "source": [
    "df.index[df['is_SOFR_above_IORB']]"
   ]
  },
  {
   "cell_type": "markdown",
   "id": "054f4a5b",
   "metadata": {},
   "source": [
    "Now, let's ask if it's 2 standard deviations above IORB"
   ]
  },
  {
   "cell_type": "code",
   "execution_count": null,
   "id": "d7623e90",
   "metadata": {},
   "outputs": [],
   "source": [
    "df['SOFR-IORB'].std()"
   ]
  },
  {
   "cell_type": "code",
   "execution_count": null,
   "id": "b45e9921",
   "metadata": {},
   "outputs": [],
   "source": [
    "df['is_SOFR_2std_above_IORB'] = df['SOFR-IORB'] > 2 * df['SOFR-IORB'].std()\n",
    "len(df.index[df['is_SOFR_2std_above_IORB']])"
   ]
  },
  {
   "cell_type": "code",
   "execution_count": null,
   "id": "819655bc",
   "metadata": {},
   "outputs": [],
   "source": [
    "df.index[df['is_SOFR_2std_above_IORB']]"
   ]
  },
  {
   "cell_type": "code",
   "execution_count": null,
   "id": "b1e8dd5a",
   "metadata": {},
   "outputs": [],
   "source": [
    "df['SOFR-IORB'].mean()"
   ]
  },
  {
   "cell_type": "code",
   "execution_count": null,
   "id": "da931e3f",
   "metadata": {},
   "outputs": [],
   "source": [
    "df.index[df['is_SOFR_2std_above_IORB']].intersection(df.index[df['is_SOFR_above_fed_upper']])"
   ]
  },
  {
   "cell_type": "code",
   "execution_count": null,
   "id": "d57efd83",
   "metadata": {},
   "outputs": [],
   "source": [
    "len(df.index[df['is_SOFR_2std_above_IORB']].intersection(df.index[df['is_SOFR_above_fed_upper']]))"
   ]
  },
  {
   "cell_type": "code",
   "execution_count": null,
   "id": "43bde332",
   "metadata": {},
   "outputs": [],
   "source": [
    "filedir = Path(OUTPUT_DIR)\n",
    "df[\n",
    "    ['is_SOFR_above_fed_upper', 'is_SOFR_2std_above_IORB', \n",
    "    'is_SOFR_above_IORB', 'is_tri_above_fed_upper']\n",
    "  ].to_csv(filedir / 'is_spike.csv')"
   ]
  },
  {
   "cell_type": "markdown",
   "id": "43884fee",
   "metadata": {},
   "source": [
    "## Summary Stats about Various Repo Rates"
   ]
  },
  {
   "cell_type": "code",
   "execution_count": null,
   "id": "1ed514b3",
   "metadata": {},
   "outputs": [],
   "source": [
    "df.info()"
   ]
  },
  {
   "cell_type": "markdown",
   "id": "68438f14",
   "metadata": {},
   "source": [
    "I don't include GCF in this first comparison, because it has a lot of missing values. I want to only compare values for which all rates are non-null. That's why I drop the whole row when any rate is missing.\n",
    "\n",
    "Here, we see that DVP average is lower than Triparty average. SOFR is closer to triparty, but is still lower. This is because SOFR tries to remove specials.\n",
    "\n",
    "Notice, however, that this is different when comparing the 75% percentiles. SOFR is higher than triparty and DVP is even higher."
   ]
  },
  {
   "cell_type": "code",
   "execution_count": null,
   "id": "c970e30d",
   "metadata": {},
   "outputs": [],
   "source": [
    "df[['SOFR', 'REPO-TRI_AR_OO-P', 'REPO-DVP_AR_OO-P']].dropna().describe()"
   ]
  },
  {
   "cell_type": "markdown",
   "id": "c4c92ed0",
   "metadata": {},
   "source": [
    "Now, I include GCF. It appears that GCF is the highest. Borrow low at tri-party, lend higher into SOFR (but lower to specials) and lend highest to GCF."
   ]
  },
  {
   "cell_type": "code",
   "execution_count": null,
   "id": "20daf0e5",
   "metadata": {},
   "outputs": [],
   "source": [
    "df[['SOFR', 'REPO-TRI_AR_OO-P', 'REPO-DVP_AR_OO-P', 'REPO-GCF_AR_OO-P']].dropna().describe()"
   ]
  },
  {
   "cell_type": "code",
   "execution_count": null,
   "id": "8b48bebb",
   "metadata": {},
   "outputs": [],
   "source": []
  },
  {
   "cell_type": "code",
   "execution_count": null,
   "id": "ede2f6b1",
   "metadata": {},
   "outputs": [],
   "source": []
  }
 ],
 "metadata": {
  "language_info": {
   "name": "python"
  }
 },
 "nbformat": 4,
 "nbformat_minor": 5
}
