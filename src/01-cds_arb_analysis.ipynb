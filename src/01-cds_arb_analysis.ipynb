{
 "cells": [
  {
   "cell_type": "markdown",
   "metadata": {},
   "source": [
    "# CDS Par Spread Returns Construction\n",
    "\n",
    "## Paper Introduction\n",
    "\n",
    "This construction is based upon the structure proposed by Siriwardane, Sunderam, and Wallen in Segmented Arbitrage (https://papers.ssrn.com/sol3/papers.cfm?abstract_id=3960980). The original paper studies the concept of implied arbitrage returns in many different markets. If markets were truly frictionless, we would expect there to be perfect correlation between all of the arbitrage returns. This is because efficient capital allocation would dictate that capital be spent where the best opportunity is, thus dictating the arbitrage opportunites we calculate via different product would have correlating rates as capital would be allocated to a different source if the arbitrage opportunity looks more attractive.\n",
    "\n",
    "## CDS Par Spread Returns\n",
    "\n",
    "### Spread Construction\n",
    "\n",
    "In the following notebook, we will walk through the steps to constructing the implied arbitrage found in the CDS and corporate bond market as specified in the Appendix of the paper (https://static1.squarespace.com/static/5e29e11bb83a3f5d75beb17d/t/654d74d916f20316049a0889/1699575002123/Appendix.pdf). The authors define the CDS basis ($CB$) as\n",
    "\n",
    "$$\n",
    "CB_{i, t, \\tau} = CDS_{i, t, \\tau} - FR_{i, t, \\tau}\n",
    "$$\n",
    "\n",
    "where:\n",
    "- $FR_{i, t, \\tau}$ = time $t$ floating rate spread implied by a fixed-rate corporate bond issued by firm $i$ at tenor $\\tau$\n",
    "- $CDS_{i, t, \\tau}$ = time $t$ Credit Default Swap (CDS) par spread for firm $i$ with tenor $\\tau$\n",
    "\n",
    "A negative basis implies an investor could earn a positive arbitrage profit by going long the bond and purchasing CDS protection. The investor would pay a lower par spread than the coupon of the bond itself and then receive value from the default. \n",
    "\n",
    "The value of $FR$ is substituted by the paper with **Z-spread** which we also modify in our construction. We will go into the substitution in detail later. \n",
    "\n",
    "The value of $CDS$ is interpolated by the authors using a cubic spline function.\n",
    "\n",
    "### Implied Risk Free Return\n",
    "\n",
    "Given the CDS spread from above, traditional construction of a risk free rate for implied arbitrage implied the following return.\n",
    "\n",
    "$$\n",
    "rfr^{CDS}_{i, t, \\tau} = y_{t, \\tau} - CB_{i , t, \\tau}\n",
    "$$\n",
    "\n",
    "where:\n",
    "- $y_{t, \\tau}$ = maturity matched treasury yield at time $t$\n",
    "\n",
    "The risk free rate then can be seen as the treasury yield in addition to the basis recieved when executing the CDS basis trade (investor benefits from negative basis).\n",
    "\n"
   ]
  },
  {
   "cell_type": "code",
   "execution_count": null,
   "metadata": {},
   "outputs": [],
   "source": [
    "import pandas as pd\n",
    "import numpy as np\n",
    "from datetime import datetime, timedelta\n",
    "import matplotlib.pyplot as plt\n",
    "from tqdm import tqdm\n",
    "\n",
    "import ctypes\n",
    "from scipy.interpolate import CubicSpline\n",
    "\n",
    "from merge_bond_treasury_redcode import *\n",
    "from merge_cds_bond import *\n",
    "from process_final_product import *\n",
    "\n",
    "%load_ext autoreload\n",
    "%autoreload 2\n"
   ]
  },
  {
   "cell_type": "code",
   "execution_count": null,
   "metadata": {},
   "outputs": [],
   "source": [
    "DATA_DIR = config(\"DATA_DIR\")\n",
    "\n",
    "\n",
    "# Initial Pull and analysis\n",
    "TREASURY_ISSUE_FILE_NAME = \"issue_data.parquet\"\n",
    "TREASURY_MONTHLY_FILE_NAME = \"monthly_ts_data.parquet\"\n",
    "CORPORATES_MONTHLY_FILE_NAME = \"wrds_bond.parquet\"\n",
    "RED_CODE_FILE_NAME = \"RED_and_ISIN_mapping.parquet\"\n",
    "\n",
    "# Secondary Pull and final analysis\n",
    "BOND_RED_CODE_FILE_NAME = \"merged_bond_treasuries_redcode.parquet\"\n",
    "CDS_FILE_NAME = \"cds_final.parquet\"\n",
    "FINAL_ANALYSIS_FILE_NAME = \"final_data.parquet\"\n"
   ]
  },
  {
   "cell_type": "markdown",
   "metadata": {},
   "source": [
    "### Step 1: Data Pull Part 1 (WRDS bond returns, Markit Redcode Mappings, WRDS Historical Treasuries)\n",
    "\n",
    "First we pull corporate bond time series data (WRDS bond returns), treasury time series data, and some mapping features. \n",
    "\n",
    "The corporate bond time series data will be used to generate the FR value (calculated as the Z-spread of the corporate bonds). Treasury time series will also be used for this purpose as well as to generate treasury yields.\n",
    "\n",
    "### Z-Spread of a Corporate Bond\n",
    "\n",
    "The **Z-spread** (zero-volatility spread) of a corporate bond is the constant spread that must be added to the **zero-coupon Treasury yield curve** to make the **present value of the bond's cash flows equal to its market price**. \n",
    "\n",
    "### **Formula**\n",
    "The Z-spread is found by solving the equation:\n",
    "\n",
    "$$\n",
    "P = \\sum_{t=1}^{N} \\frac{C_t}{(1 + r_t + Z)^t}\n",
    "$$\n",
    "\n",
    "where:\n",
    "- $P$ = Market price of the bond  \n",
    "- $C_t$ = Cash flow (coupon or principal) at time $t$  \n",
    "- $r_t$ = Discount rate of the zero-coupon Treasury bond at time $t$  \n",
    "- $Z$ = Z-spread  \n",
    "- $N$ = Number of periods  \n",
    "\n",
    "### Our construction Z-Spread Surrogate\n",
    "\n",
    "The **Z-spread** accounts for different discount rates of a treasury. For our surrogate **Z-spread** ($z$) and in turn what we will be using to calculate **FR** will be the below representation.\n",
    "\n",
    "$$\n",
    "P = \\sum_{t=1}^{N} \\frac{C_t}{(1 + y_m + z)^t}\n",
    "$$\n",
    "\n",
    "where:\n",
    "- $P$ = Market price of the bond  \n",
    "- $C_t$ = Cash flow (coupon or principal) at time \\( t \\)  \n",
    "- $y_m$ = Yield of the zero-coupon Treasury bond at time $t_m$\n",
    "    - This is different because the yield is calculated at the time the market price is set is a fixed rate substitute for a varying discount rate\n",
    "- $z$ = Z-spread surrogate\n",
    "- $N$ = Number of periods \n",
    "\n",
    "\n"
   ]
  },
  {
   "cell_type": "markdown",
   "metadata": {},
   "source": [
    "### Step 1.1: Treasury merge\n",
    "\n",
    "Since this step does not take very long, we will try it out. Since the treasury timeseries dataframe does not have maturity dates, we need to use issue information to track those down. Below is our processing:"
   ]
  },
  {
   "cell_type": "code",
   "execution_count": null,
   "metadata": {},
   "outputs": [],
   "source": [
    "treasury_monthly_data = pd.read_parquet(f\"{DATA_DIR}/{TREASURY_MONTHLY_FILE_NAME}\")\n",
    "treasury_issue_data = pd.read_parquet(f\"{DATA_DIR}/{TREASURY_ISSUE_FILE_NAME}\")"
   ]
  },
  {
   "cell_type": "code",
   "execution_count": null,
   "metadata": {},
   "outputs": [],
   "source": [
    "treasury_monthly_data.head()"
   ]
  },
  {
   "cell_type": "code",
   "execution_count": null,
   "metadata": {},
   "outputs": [],
   "source": [
    "treasury_issue_data.head()"
   ]
  },
  {
   "cell_type": "code",
   "execution_count": null,
   "metadata": {},
   "outputs": [],
   "source": [
    "treasury_data_combined = merge_treasury_data(treasury_issue_data, treasury_monthly_data)"
   ]
  },
  {
   "cell_type": "code",
   "execution_count": null,
   "metadata": {},
   "outputs": [],
   "source": [
    "treasury_data_combined.head()"
   ]
  },
  {
   "cell_type": "markdown",
   "metadata": {},
   "source": [
    "# Step 1.2 and 1.3: Merging treasury and bond time series, adding redcode mapping\n",
    "\n",
    "## Step 1.2\n",
    "\n",
    "Step 1.2 is relatively time intensive so we will not do it here. The code for it is in **merge_bond_treasury_redcode.py** in the function **merge_treasuries_into_bonds**. The more specific inputs are within the function itself.\n",
    "\n",
    "The basic steps of the process are merging treasuries onto the corporate bonds using the start of the month data and the maturity dates. Given some mismatches of the end of month date, we use the year-month pair to match the report dates. The maturity dates usually do not match up relatively well. However, given how the treasuries are usually long term, we merge based upon a \"day-window,\" where we grab treasury data from maturities within the day-window of the corporate bond's maturity and then choose the treasury with the highest public outstanding value. With higher amounts in the public, we can assume there is generally more liquidity and the priced treasury yield is more accurate. However, given the scarcity of the public outstanding data, we will choose the first treasury in the dataframe if there is no public outstanding data.\n",
    "\n",
    "## Step 1.3\n",
    "\n",
    "Step 1.3 is simpled compared to 1.2. However, since there is no convenient displayable product for step 1.2, we will touch on the steps of 1.3 and display the outputs. The code for it is in **merge_bond_treasury_redcode.py** in the function **merge_redcode_into_bond_treas**. The more specific inputs are within the function itself.\n",
    "\n",
    "Given CDS tables record issuers of the Credit Default Swaps using Redcode and the bond tables only had CUSIPs, we needed to merge a redcode-CUSIP matching table to the end product of step 1.2 for CDS merging later on.\n",
    "\n",
    "We will pull the results without processing for CDS implied arbitrage returns."
   ]
  },
  {
   "cell_type": "code",
   "execution_count": null,
   "metadata": {},
   "outputs": [],
   "source": [
    "bond_redcode_merged_data = pd.read_parquet(f\"{DATA_DIR}/{BOND_RED_CODE_FILE_NAME}\")"
   ]
  },
  {
   "cell_type": "code",
   "execution_count": null,
   "metadata": {},
   "outputs": [],
   "source": [
    "bond_redcode_merged_data.head()"
   ]
  },
  {
   "cell_type": "markdown",
   "metadata": {},
   "source": [
    "# Step 2: CDS data pull and CDS data processing\n",
    "\n",
    "## Step 2.1: CDS data pull\n",
    "\n",
    "The CDS data pull will be filtered using the redcodes from the above **bond_redcode_merged_data** dataframe, ensuring that only the firms that have corporate bond data are pulled from the CDS table. This data from Markit is daily.\n",
    "\n",
    "## Step 2.2: CDS data processing\n",
    "\n",
    "Let's first observe the data to see what we are working with:\n"
   ]
  },
  {
   "cell_type": "code",
   "execution_count": null,
   "metadata": {},
   "outputs": [],
   "source": [
    "cds_data = pd.read_parquet(f\"{DATA_DIR}/{CDS_FILE_NAME}\")"
   ]
  },
  {
   "cell_type": "code",
   "execution_count": null,
   "metadata": {},
   "outputs": [],
   "source": [
    "cds_data.head()"
   ]
  },
  {
   "cell_type": "markdown",
   "metadata": {},
   "source": [
    "The CDS data has a flaw: the **tenor** is displayed as opposed to **maturity date** which would allow for more accurate cubic splines of the par spread. To approximate the correct number of days, we use tenor as is and annualize. \n",
    "\n",
    "For example, if the tenor is $3Y$, the number of days that we use to annualize is $3 \\times 365 = 1095$. \n",
    "\n",
    "In our processing function **merge_cds_into_bonds**, we grab the **redcode, date** tuples for which we can generate a good cubic spline function, filter the bond and treasury dataframe (output of step 1). \n",
    "\n",
    "Then, we use the days between the **maturity** and the **date** for each corporate bond as the input for the cubic spline function for par spread generation. Thus, we end up with the final dataframe with bond, treasury, and cds data all merged together."
   ]
  },
  {
   "cell_type": "code",
   "execution_count": null,
   "metadata": {},
   "outputs": [],
   "source": [
    "final_data = merge_cds_into_bonds(bond_redcode_merged_data, cds_data)"
   ]
  },
  {
   "cell_type": "code",
   "execution_count": null,
   "metadata": {},
   "outputs": [],
   "source": [
    "final_data.head()"
   ]
  },
  {
   "cell_type": "markdown",
   "metadata": {},
   "source": [
    "# Step 3: Processing\n",
    "\n",
    "Given our explanations from before, here is our construction of the $FR$ factor. The $CB$ and $rf$ are constructed as specified in the paper given our custom $FR$.\n",
    "\n",
    "$$\n",
    "FR_{i, t, \\tau} = cy_{i, t, \\tau} - y_{t, \\tau}\n",
    "$$\n",
    "where:\n",
    "- $cy_{i, t, \\tau}$ = time $t$ corporate bond yield for firm $i$ with tenor $\\tau$\n",
    "- $y_{t, \\tau}$ = time $t$ yield of treasury with tenor $\\tau$\n",
    "\n",
    "We threw out some unreasonable data for the rf values exceeding 1 (risk free annual return of 100%). "
   ]
  },
  {
   "cell_type": "code",
   "execution_count": null,
   "metadata": {},
   "outputs": [],
   "source": [
    "processed_final_data = process_cb_spread(final_data)"
   ]
  },
  {
   "cell_type": "code",
   "execution_count": null,
   "metadata": {},
   "outputs": [],
   "source": [
    "processed_final_data.head()"
   ]
  },
  {
   "cell_type": "markdown",
   "metadata": {},
   "source": [
    "# Step 4: Results"
   ]
  },
  {
   "cell_type": "markdown",
   "metadata": {},
   "source": [
    "## Risk free rates\n",
    "\n",
    "As we can see below, the risk free rates all seem to be relatively reasonable. Generally, we see that the risk free return implied by this arbitrage structure favored high yield bonds in many periods. This could potentially be due to higher than normal discounting for the high yield corporate bonds, hence the name high yield. The CDS par spreads demanded for these HY bonds could not be compensating for this higher yield. "
   ]
  },
  {
   "cell_type": "code",
   "execution_count": null,
   "metadata": {},
   "outputs": [],
   "source": [
    "generate_graph(processed_final_data)"
   ]
  },
  {
   "cell_type": "markdown",
   "metadata": {},
   "source": [
    "## Corporate Yield\n",
    "\n",
    "We can see an obvious segmentation here. This is to be expected as high yield bonds are generally discounted more due to credit risk. This graph does explain some of the slight segmentation in risk free rates we see in the above graph."
   ]
  },
  {
   "cell_type": "code",
   "execution_count": null,
   "metadata": {},
   "outputs": [],
   "source": [
    "generate_graph(processed_final_data, 'yield')"
   ]
  },
  {
   "cell_type": "markdown",
   "metadata": {},
   "source": [
    "## CDS Par Spread\n",
    "\n",
    "It is expected that CDS par spread is relatively close to 0 for IG bonds. Interestingly, the HY bond CDS par spread matches relatively well with the spikes of the corporate yield. \n",
    "\n",
    "A quick observation of the time periods reveals these spikes occur around 2008 and 2020, in line with periods of recession. More firms would be defaulting and required yield for bonds to trade would be at an all time high, explaining movement in the CDS par spread and the corporate bond yields. "
   ]
  },
  {
   "cell_type": "code",
   "execution_count": null,
   "metadata": {},
   "outputs": [],
   "source": [
    "generate_graph(processed_final_data, 'par_spread')"
   ]
  },
  {
   "cell_type": "code",
   "execution_count": null,
   "metadata": {},
   "outputs": [],
   "source": [
    "processed_final_data.columns"
   ]
  },
  {
   "cell_type": "code",
   "execution_count": null,
   "metadata": {},
   "outputs": [],
   "source": []
  },
  {
   "cell_type": "markdown",
   "metadata": {},
   "source": [
    "## Investigation of Relative Corporate Bond Liquidity\n",
    "\n",
    "### Spread ratio\n",
    "\n",
    "Even in periods of high corporate yields, we see that corporate bonds still do not exceed 4 bps of bid-ask spread. Perhaps the existence of CDS protection maintains the bid price close to the ask. Interestingly, we do see occasional concurrent spikes in treasury yields and spread ratio. These 2 values are usually indicators of recessions. The concurrent spikes are probably results of a similar phenomenon. It is usually not necessary to look at a leading, lagging analysis of this time series.\n",
    "\n",
    "### Amount Outstanding\n",
    "\n",
    "Due to inflation and general growth of financial markets, amount outstanding growth is not wholly representative of the liquidity of the bonds. "
   ]
  },
  {
   "cell_type": "code",
   "execution_count": null,
   "metadata": {},
   "outputs": [],
   "source": [
    "# spread percent, liquidity measure, in bps space\n",
    "processed_final_data['spread bps'] = 10000 * processed_final_data['t_spread'] / processed_final_data['price_eom']"
   ]
  },
  {
   "cell_type": "code",
   "execution_count": null,
   "metadata": {},
   "outputs": [],
   "source": [
    "generate_graph(processed_final_data, col='yield', col2='spread bps', two=True)"
   ]
  },
  {
   "cell_type": "code",
   "execution_count": null,
   "metadata": {},
   "outputs": [],
   "source": [
    "generate_graph(processed_final_data, col='yield', col2='amount_outstanding', two=True)"
   ]
  },
  {
   "cell_type": "code",
   "execution_count": null,
   "metadata": {},
   "outputs": [],
   "source": []
  }
 ],
 "metadata": {
  "kernelspec": {
   "display_name": "myenv",
   "language": "python",
   "name": "python3"
  },
  "language_info": {
   "name": "python",
   "version": "3.12.7"
  }
 },
 "nbformat": 4,
 "nbformat_minor": 4
}
